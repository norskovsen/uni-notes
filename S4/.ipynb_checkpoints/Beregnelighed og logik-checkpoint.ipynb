{
 "cells": [
  {
   "cell_type": "markdown",
   "metadata": {},
   "source": [
    "# Turing Machines\n",
    "![turing_machine](img/turing_machine.png)\n",
    "- For a state $p \\in Q$, a state $q \\in Q \\cup \\{h_a,h_r\\}$, two symbols $X,Y \\in \\Gamma \\cup \\{\\Delta\\}$, and a \"direction\" $D \\in \\{R,L,S\\}$, we interpret the formula\n",
    "$$\n",
    "    \\delta(p,X)=(q,Y,D)\n",
    "$$\n",
    "    to that when $T$ is a state $p$ and the symbol on the current tape i $X$, the TM\n",
    "    - replaces $X$ by $Y$ on that square, \n",
    "    - changes state to $p$\n",
    "        - If state $q$ is either $h_a$ or $h_r$, we say the this moves causes $T$ to halt, and cannot move since $\\delta$ is only defined for $q\\in Q$\n",
    "    - either moves the tape head one square right or left if the tape head is not already on square 0, or leaves it stationary depending on $D$.\n",
    "\n",
    "\n",
    "- The transition\n",
    "$$\n",
    "    \\delta(p,X)=(q,Y,D)\n",
    "$$\n",
    "    is represented by the diagram\n",
    "    ![tm_diagram](img/tm_diagram.png)\n",
    "- If the TM attempts to execute the move $\\delta(p,X)=(q,Y,L)$ when the tape head is on square 0, we will say that it halts in the state $h_r$ leaving the tape head in square 0 and the symbol $X$ unchanged\n",
    "    - This is a way for the TM to halt that is not reflected by the transition function\n",
    "- It is assumed that the set of nonblank squares when the TM starts is finite    \n",
    "___\n",
    "\n",
    "- The current **configuration** of a TM can be described by a single string \n",
    "$$\n",
    "    xqy\n",
    "$$\n",
    "    where \n",
    "    - $q$ is the current state \n",
    "    - $x$ is the string of symbols to the of the current square\n",
    "        - May be null and if not the symbols in $x$ may include blanks as well as nonblanks\n",
    "    - $y$ is either null or starts in the current square\n",
    "        - If all the squares to the right are blanks it is written as $xq\\Delta$\n",
    "    - everything after $xy$ is blank \n",
    "\n",
    "\n",
    "- To describe the tape without mentioning the current state the following notation is used\n",
    "$$\n",
    "    x \\underline\\sigma y\n",
    "$$\n",
    "    where $\\sigma$ is the symbol in the current state, or \n",
    "$$\n",
    "    x \\underline y\n",
    "$$\n",
    "    where the string $y$ begins in the current square\n",
    "    - may contain more than one symbol\n",
    "    - if $y=\\Lambda$, it is written $x\\underline\\Delta$    \n",
    "___\n",
    "\n",
    "- To trace a sequence of TM moves is done by specifying the configuration in each step\n",
    "    - E.g. if $q$ is a nonhalting state and $r$ is ant state we write \n",
    "$$\n",
    "    xqy \\vdash_T zrw \\quad \\text{or} \\quad xqy \\vdash_T^* zrw\n",
    "$$\n",
    "    to mean that the TM $T$ moves from the first configuration to second in one move or in zero or more moves, respectively   \n"
   ]
  },
  {
   "cell_type": "markdown",
   "metadata": {},
   "source": [
    "## TMs as Language Acceptors\n",
    "![acceptance_tm](img/acceptance_tm.png)\n",
    "- In a diagram if a transition to an $h_a$ is not shown there is an implicit transition to $h_r$"
   ]
  },
  {
   "cell_type": "markdown",
   "metadata": {},
   "source": [
    "## TMs that compute partial functions\n",
    "![function_tm](img/function_tm.png)"
   ]
  },
  {
   "cell_type": "markdown",
   "metadata": {},
   "source": [
    "## Combining TMs\n",
    "- Several TMs can be combine into one \n",
    "- If $T_1$ and $T_2$ are TMs, we can consider the composition\n",
    "$$\n",
    "    T_1 T_2\n",
    "$$\n",
    "    whose computation can be described by first execute $T_1$ then $T_2$\n",
    "    - They are sharing a common tape, tape head, and tape contents and the tape head position when $T_2$ can be assumed to be the same as when $T_1$ ends\n",
    "    \n",
    "    \n",
    "- If $T=(Q,\\Sigma,\\Gamma,q_0,\\delta)$ is the composition TM $T_1 T_2$ then \n",
    "    - The set $Q$ of $T$ can be obtained by taking the union of the state sets $T_1$ and $T_2$\n",
    "    - The initial state of $T$ is $T_1$'s initial state \n",
    "    - The transitions of T include all those of $T_2$ and those of $T_1$ that don't go to $h_a$ \n",
    "    - When $T_1$ would have gone to $h_a$ it should instead go to the initial state of $T_2$\n",
    "    - The output of $T_1$ must be a valid input for $T_2$\n",
    "    \n",
    "    \n",
    "- To show draw the transition diagram without have to draw the states explicitly, the following can be used\n",
    "$$\n",
    "    T_1 \\rightarrow T_2\n",
    "$$\n",
    "- A transition diagram where some of the states are shown can sometimes be useful, these notations \n",
    "![partial_trans](img/partial_trans.png)\n",
    "    means \"in state $p$ if the current symbol is $a$ then execute the TM $T$\n",
    "    \n",
    "    \n",
    "- The following three notations\n",
    "![partial_trans2](img/partial_trans2.png)\n",
    "    stands for execute $T_1$, and if $T_1$ halts in $h_a$  with current symbol a, then execute $T_2$ and if it halts with one other then $a$ the TM rejects \n",
    "\n",
    "\n",
    "- The TM which moves the tape head to the **next blank** is denoted NB and PB for the **previous blank**"
   ]
  },
  {
   "cell_type": "markdown",
   "metadata": {},
   "source": [
    "## Multitape TMs\n",
    "- A 2-tape TM can be described by a 5-tuple $T=(Q,\\Sigma,\\Gamma,q_,\\delta)$, where \n",
    "$$\n",
    "    \\delta: Q \\times (\\Gamma \\cup \\{\\Delta\\})^2 \\rightarrow (Q\\cup\\{h_a,h_r\\}) \\times(\\Gamma \\cup \\{ \\Delta \\}) ^2 \\times \\{R,L,S\\}^2\n",
    "$$\n",
    "- The **configuration** of a 2-tape TM is described by a 3-tuple\n",
    "$$\n",
    "  (q,x_1 \\underline a_1 y_1, x_2 \\underline a_2 y_2)  \n",
    "$$\n",
    "    where $q$ is the current state and $x_i \\underline a_i y_i$ represents the contents of the tape $i$ for each value of $i$\n",
    "\n",
    "- The initial configuration corresponding to the input string $x$ is \n",
    "$$\n",
    "    (q_0,\\Delta x, \\Delta)\n",
    "$$\n",
    "- The output will appear on the first tape and the contents of the second tape at the end of the computation will be irrelevant \n",
    "![theorem_7_26](img/theorem_7_26.png)\n",
    "- Bevis side 245 (Martin)\n",
    "\n",
    "\n",
    "**Corollary 7.27** \n",
    "- Every language that is accepted by a 2-tape TM can be accepted by an ordinary 1-tape TM, and every function that is computed by a 2-tape TM can be computed by an ordinary TM"
   ]
  },
  {
   "cell_type": "markdown",
   "metadata": {},
   "source": [
    "## The Church-Turing Thesis\n",
    "- The **Church-Turing** thesis says that any algorithmic procedure that can be carried out at all by a human computer or a team of humans or an electronic computer, can be carried out by a TM\n",
    "- The description of an algorithm: A procedure that can be carried out by a TM "
   ]
  },
  {
   "cell_type": "markdown",
   "metadata": {},
   "source": [
    "## Nondeterministic TMs\n",
    "- A **nondeterministic** Turing machine (NTM) $T$ is defined the same ways as an ordinary TM, except that for a state-symbol pair there might be more than one move\n",
    "- For a NTM $T=(Q,\\Sigma,\\Gamma,q_0,\\delta)$ and $(q,a)\\in Q \\times(\\Gamma \\cup \\{\\Delta\\}$, then $\\delta(q,a)$is a finite subset not an element of $(Q\\cup \\{h_a,h_r\\} \\times (\\Gamma \\{\\delta\\}) \\times \\{R,L,S\\}$\n",
    "- The same notion for configuration of an NTM is used as a TM, where instead of being one move their is at least one move\n",
    "- The string is accepted by the TM if some moves lead to an accepting halt \n",
    "\n",
    "\n",
    "**Theorem 7.31** (bevis 251 - (Martin))\n",
    "- For every nondeterministic TM $T=(Q,\\Sigma,\\Gamma,q_0,\\delta$, there is an ordinary (deterministic) $T_1=(Q_1,\\Sigma,\\Gamma_1,q_1,\\sigma_1)$ with $L(T_1)=L(T)$"
   ]
  },
  {
   "cell_type": "markdown",
   "metadata": {},
   "source": [
    "## Universal TMs\n",
    "![universal_tm](img/universal_tm.png)\n",
    "- The crucial features of any encoding function $e$ are these:\n",
    "    1. It should be possible to decide algorithmically, for an arbitrary string $w \\in \\{0,1\\}^*$, weather $w$ is a legitimate value of $e$\n",
    "        - i.e. the encoding of a TM or encoding of a string\n",
    "    2. A string $w$ should represent at most one Turing machine, or at most one string\n",
    "    3. If $w$ is of the form $e(T)$ or $e(z)$, there should b an algorithm for decoding $w$ to obtain the Turin machine $T$ or the string $z$ that it represents \n",
    "- Two TMs are equivalent if their transition diagrams are identical "
   ]
  },
  {
   "cell_type": "markdown",
   "metadata": {},
   "source": [
    "### Convention \n",
    "- We assume that there is an infinite set $S=\\{a_1,a_2,a_3,\\dots\\}$ of symbols, where $a_1 = \\Delta$, such that the tape alphabet of every TM $T$ is a subset of $S$\n",
    "- The idea of encoding is that we represent a Turing machine a set of move and each move \n",
    "$$\n",
    "    \\delta(p,a) = (q,b,D)\n",
    "$$\n",
    "    is associated with a $5$-tuple of numbers that represent the five components $p,a,q,b$ and $D$ of the move.\n",
    "    - Each number is represented by a string of that many $1$'s and the 5-tuple is represented by the string contained all five of these string each of the five followed by a 0\n",
    "![encoding_function](img/encoding_function.png)\n",
    "![encoding_conditions](img/encoding_conditions.png)"
   ]
  },
  {
   "cell_type": "markdown",
   "metadata": {},
   "source": [
    "# Recursively Enumerable Language\n",
    "- **Recursively Enumerable Languages** are the languages that can be accepted by a Turing Machine \n",
    "- Only if a language is recursively there is an algorithm guaranteed to determine whether an arbitrary string is an element.\n",
    "![accepting_language_deciding](img/accepting_language_deciding.png)\n",
    "- Every recursive language is recursive enumerable \n",
    "- If $L \\subseteq \\Sigma^*$ is accepted by a TM $T$ that halts on every input string then $L$ is recursive \n",
    "- If $L_1$ and $L_2$ are both recursively enumerable language over $\\Sigma$, then $L_1 \\cup L_2$ and $L_1 \\cap L_2$ are also recursively enumerable \n",
    "- If $L_1$ and $L_2$ are both recursively language over $\\Sigma$, then $L_1 \\cup L_2$ and $L_1 \\cap L_2$ are also recursively \n",
    "- If $L$ is a recursive language over $\\Sigma$, then the complement $L'$ is also recursive \n",
    "- If $L$ is a recursive enumerable language, and it's complement $L'$ is also recursive enumerable then $L$ is $recursive$"
   ]
  },
  {
   "cell_type": "markdown",
   "metadata": {},
   "source": [
    "## Enumerating a language \n",
    "![tm_enum](img/tm_enum.png)\n",
    "**Theorem 8.9**\n",
    "- For every language $L \\subseteq \\Sigma^*$, $L$ is recursive enumerable if and only if there is an TM that enumerates the strings in $L$ in canonical order \n"
   ]
  },
  {
   "cell_type": "markdown",
   "metadata": {},
   "source": [
    "## Not every language is recursive enumerable \n",
    "**Definition 8.13** \n",
    "- **A set $A$ of the same size as $B$ or Larger than $B$**\n",
    "    - Two sets $A$ and $B$, either finite or infinite, are the same size if there is a bijection $f:A \\rightarrow B$. $A$ is larger than $B$ if some subset of $A$ is the same size as $B$ but $A$ itself is not \n",
    "    \n",
    "\n",
    "**Definition 8.24**\n",
    "- A set $A$ is **countably infinite** (the same size as $\\mathbb N$) if there is a bijection $f:\\mathbb N \\rightarrow A$, or a list $a_0,a_1,\\dots$ of elements $A$ such that every element of $A$ appears exactly once in the list. A is countable if A is either finite or countably infinite.\n",
    "- Every infinite set has a countably infinite subset, and every subset of a countable set is countable \n",
    "\n",
    "\n",
    "**Theorem 8.32**\n",
    "- Not all languages are recursively enumerable. In fact the set of languages over $\\{0,1\\}$, that are not recursively enumerable are uncountable "
   ]
  },
  {
   "cell_type": "markdown",
   "metadata": {},
   "source": [
    "## More general grammars\n",
    "![unrestricted_grammars](img/unrestricted_grammars.png)\n",
    "- The **unrestricted grammars** correspond to the recursive enumerable languages  \n",
    "- **Theorem 8.13** For every context free language $G$ there is a Turing machine $T$ with $L(T)=L(G)$ \n",
    "- **Theorem 8.14** For every Turing machine $T$ with input alphabet $\\Sigma$, there exists an unrestricted grammar $G$ generating the language $L(T) \\subseteq \\Sigma^*$"
   ]
  },
  {
   "cell_type": "markdown",
   "metadata": {},
   "source": [
    "# Undecidable problems \n",
    "![nsa_sa_lang](img/nsa_sa_lang.png)\n",
    "- A **reasonable encoding** is an encoding which is able to be decoded to \n",
    "    - There only exists one representation of a given string\n",
    "- $Y(P)$ represents all the yes instances of a problem\n",
    "- $N(P)$ represents all the no instances of a problem\n",
    "- $E(p)=Y(P) \\cup N(P)$\n",
    "    \n",
    "**Definition 9.3 - Decidable Problems** \n",
    "- If $P$ is a decision problem, and $e$ is a reasonable encoding of instances of $P$ over the alphabet $\\Sigma$, we say that $P$ is **decidable** if $Y(P)=\\{e(i) \\ | \\ I \\ \\text{is a yes instance of} \\ P \\}$ is a recursive language \n",
    "\n",
    "\n",
    "**Theorem 9.4**\n",
    "- The decision problem *Self-accepting* is undecidable \n",
    "\n",
    "\n",
    "**Theorem 9.5**\n",
    "- For every decision problem $P$, $P$ is decidable if and only if the complementary problem $P'$ is decidable "
   ]
  },
  {
   "cell_type": "markdown",
   "metadata": {},
   "source": [
    "## Reductions and the Halting Problem\n",
    "![reducing_problem](img/reducing_problem.png)\n",
    "**Theorem 9.7**\n",
    "- Suppose $L_1 \\subseteq \\Sigma_1^*$,$L_2 \\subseteq \\Sigma_2^*$ and $L_1 \\leq L_2$. If $L_2$ is recursive then $L_1$ is recursive \n",
    "- Suppose $P_1$ and $P_2$ are decision problems and $P_1 \\leq P_2$. If $P_2$ is decidable, then $P_1$ is decidable\n",
    "\n",
    "___\n",
    "\n",
    "- *Accepts*: Given a TM $T$ and a string $w$ is $w\\in L(T)$\n",
    "- The halting problem\n",
    "    - *Halt*: Give a TM $T$ and a string $w$, does $T$ halt on input $w$\n",
    "\n",
    "\n",
    "**Theorem 9.8**\n",
    "- Both *Accepts* and *Halt* are undecidable problems"
   ]
  },
  {
   "cell_type": "markdown",
   "metadata": {},
   "source": [
    "## More decision problems involving TMs \n",
    "- **Theorem 9.9** The following decision problems are undecidable \n",
    "    1. *Accepts-$\\Lambda$*: Given a TM $T$, is $\\Lambda \\in L(T)$? \n",
    "    2. *AcceptsEverything*: Given a TM $T$ with input alphabet $\\Sigma$ is $T=\\Sigma^*$? \n",
    "    3. *Subset*: Given two TMs $T_1$ and $T_2$, is $L(T_1) \\subseteq L(T_2)$\n",
    "    4. *Equivalent:*: Given two TMs $T_1$ and $T_2$, is $L(T_1) = L(T_2)$\n",
    "    5. *WritesSymbol*: Given a TM $T$ and a symbol $a$ does $T$ every write an $a$ if it starts with an empty tape \n",
    "- *WritesNonBlank*: Given a TM $T$, does $T$ ever write a nonblank symbol on input $\\Lambda$\n",
    "- **Theorem 9.19** The decision problem *WritesNonBlank* is decidable \n",
    "\n",
    "\n",
    "**Definition 9.11**\n",
    "- A property $R$ of Turing machines is called a **language property** if, for every Turing machine having property $R$, and every other TM $T_1$ with $L(T_1)=L(T)$. $T_1$ also has property $R$. A language property of TMs is **nontrivial** if there is at least one TM that has it and one that don't \n",
    "\n",
    "\n",
    "**Theorem 9.12 Rice's theorem** \n",
    "- If $R$ is a nontrivial language property of TMs, then the decision problem \n",
    "$$\n",
    "    Pr: \\text{ Given a TM $T$, does $T$ have property } R\n",
    "$$\n",
    "    is undecidable  "
   ]
  },
  {
   "cell_type": "markdown",
   "metadata": {},
   "source": [
    "## Post correspondence problem \n",
    "![post_correspondence_problem1](img/post_correspondence_problem1.png)\n",
    "![post_correspondence_problem2](img/post_correspondence_problem2.png)\n",
    "- **Theorem 9.15** *MPCP $\\leq$ PCP*\n",
    "- **Theorem 9.16** *Accepts $\\leq$ MPCP*\n",
    "- **Theorem 9.17** Post's correspondence problem is undecidable."
   ]
  },
  {
   "cell_type": "markdown",
   "metadata": {},
   "source": [
    "## Involving CF languages\n",
    "**Theorem 9.20**\n",
    "- These two problems are undecidable \n",
    "    1. *GFGNonemptyIntersection*: Given two CFGs $G_1$ and $G_2$, is $L(G_1)\\cap L(G_2)$ nonempty?\n",
    "    2. *IsAmbiguous*: Given a GFG $G$ is $G$ ambiguous \n",
    "    \n",
    "![valid_comp_tm](img/valid_comp_tm.png)\n",
    "**Theorem 9.22**\n",
    "- For at TM $T= (Q, \\Sigma, \\Gamma, q_0, \\delta)$, the set $G_T$ of valid computations of $T$ is the intersection of two context-free languages, and its complement $C_T'$ is a context-free language\n",
    "\n",
    "\n",
    "**Theorem 9.23**\n",
    "- The decision problem \n",
    "<center>\n",
    "  *CFGGeneratesAll*: Given a CFG $G$ with terminal alphabet $\\Sigma$, is $L(G)=\\Sigma^*$ \n",
    "</center>\n",
    "    is undecidable "
   ]
  },
  {
   "cell_type": "markdown",
   "metadata": {},
   "source": [
    "# Propositional logic "
   ]
  },
  {
   "cell_type": "markdown",
   "metadata": {},
   "source": [
    "## Declarative sentences\n",
    "- A declarative sentence is sentence which one can argue as being true or false\n",
    "    - e.g. *The sum of numbers 3 and 5 equals 8*\n",
    "- Given two declarative sentence $p$ and $r$, complex sentences can be formed according to the rules below \n",
    "    - $\\neg:$ The **negation** of $p$ is denoted $\\neg p$\n",
    "    - $\\lor:$ Denoted $p \\lor r$ mean at least one of $p$ or $r$ has to true\n",
    "    - $\\land:$ Denoted $p \\land r$ mean that both $p$ or $r$ has to true\n",
    "    - $\\to:$ Denoted $p \\to r$ means that if $p$ then $r$ \n",
    "        - $p$ is called the **assumption**\n",
    "        - $r$ is called its **conclusion**\n",
    "\n",
    "\n",
    "**Convention 1.3** \n",
    "- $\\neq$ binds more tightly than $\\lor$ and $\\land$ and the latter two bind more tightly than $\\to$. \n",
    "- Implication $\\to$ is **right-associative***: expressions of the form $p \\to q \\to r$ denote $p \\to (q \\to r)$"
   ]
  },
  {
   "cell_type": "markdown",
   "metadata": {},
   "source": [
    "## Natural deduction \n",
    "- Greek letters are used in logic\n",
    "- Lower-case letter are used to stand for formulas and uppercase letters are used for sets of formulas \n",
    "- Given a set of formulas $\\phi_1, \\phi_2, \\dots, \\phi_n$ which we call **premises** and another formula $\\psi$ which we call the **conclusion**. By applying the premises, we hope to get some more formulas and by applying more proof rules to those, to eventually obtain the conclusion, This intention is denoted by \n",
    "$$ \n",
    "    \\phi_1, \\phi_2, \\dots, \\phi_n \\vdash \\psi\n",
    "$$\n",
    "    This expression is called a **sequent** it is valid if a proof for it can be found \n"
   ]
  },
  {
   "cell_type": "markdown",
   "metadata": {},
   "source": [
    "### Rules for natural deduction \n",
    "- **The rule for conjunction** \n",
    "$$\n",
    "    \\frac{\\phi \\quad \\quad \\psi}{\\phi \\land \\psi} \\land i\n",
    "$$\n",
    "    - Above the line are the two premises of the rule below the line goes the conclusion\n",
    "    - To the right of the line the name of the rule is written\n",
    "___\n",
    "\n",
    "\n",
    "- The **rules of and-elimination** are these two \n",
    "$$\n",
    "    \\frac{\\phi \\land \\psi}{\\phi}\\land e_1 \\quad \\frac{\\phi \\land \\psi}{\\psi}\\land e_2\n",
    "$$\n",
    "    - The rule $\\land e_1$ says: if you have a prof of $\\phi \\land \\psi$, then by applying this rule you can get a proof of $\\phi$\n",
    "    - The rule $\\land e_2$ says the same things but with $\\psi$ as the conclusion instead\n",
    "___    \n",
    "\n",
    "- **The rules of double negation**\n",
    "$$\n",
    "    \\frac{\\neg \\neg \\phi}{\\phi} \\neg \\neg e \\quad \\frac{\\phi}{\\neg \\neg \\phi} \\neg \\neg i \n",
    "$$\n",
    "___\n",
    "\n",
    "- **The rule for eliminating implication** \n",
    "$$\n",
    "    \\frac{\\phi \\quad \\phi \\to \\psi }{\\psi}\\to e\n",
    "$$\n",
    "    - Called implies-elimination or arrow-elimination\n",
    "    \n",
    "    \n",
    "- The rule *modus tollens* (**MT**) \n",
    "$$\n",
    "    \\frac{\\phi \\to \\psi \\quad \\neg \\psi}{\\neg \\psi} \\text{MT}\n",
    "$$\n",
    "- Assumptions can be used to prove that something is true it is called a proof using $\\to i$\n",
    "![using_i](img/using_i.png)\n",
    "    - When an assumption is made we open a box, it is closed when we no longer need it \n",
    "    - It is used to prove something on the form $\\phi \\to \\psi$\n",
    "    - Showing $p \\to q$ using the the rule $\\to i$ is called type checking \n",
    "![example_1_9](img/example_1_9.png)\n",
    "\n",
    "- **Definition 1.10** Logical formulas $\\phi$ with valid sequent $\\vdash_\\phi$ are **theorems**\n",
    "- **Remark 1.12** We may transform any proof of $\\phi_1, \\phi_2, \\dots, \\phi_n \\vdash \\psi$ in such as way into a proof of the theorem \n",
    "$$\n",
    "    \\vdash \\phi_1 \\to (\\phi_2 \\to (\\phi_2(\\dots \\to (\\phi_n \\to \\psi) \\dots)))\n",
    "$$\n",
    "- If two formulas can be proved from each other it is denoted as $\\dashv \\vdash$\n",
    "___\n",
    "\n",
    "- **The rules for disjunction**\n",
    "$$\n",
    "    \\frac\\phi{\\phi \\lor \\psi} \\lor i_1 \\quad \\frac\\psi{\\phi \\lor \\psi} \\lor i_2\n",
    "$$\n",
    "- To show some proposition $\\chi$ by assuming $\\psi \\lor \\psi$, two separate proofs which should be combine into one this is called the rule $\\lor e$\n",
    "![rule_ve](img/rule_ve.png)\n",
    "- The rule **copy** allows us to repeat something that we already know \n",
    "\n",
    "___\n",
    "- **Definition 1.19** Contradictions are expressions of the form $\\phi \\land \\neg \\phi$ or $\\neg \\phi \\land \\phi$, where $\\phi$ is any formula\n",
    "    - The formula $\\perp$ stands for the contradiction\n",
    "    - Any formula can be derived from a contradiction \n",
    "\n",
    "\n",
    "- **The rules for negation**\n",
    "    - The fact that contradiction can prove any thing is encoded in the calculus by the proof rule bottom-elimination\n",
    "$$\n",
    "    \\frac\\perp\\phi \\perp e\n",
    "$$\n",
    "    - The fact that $\\perp$ represents a contradiction is encoded in the calculus by the proof rule not-elimination\n",
    "$$\n",
    "    \\frac{\\phi \\quad \\neg \\phi}\\perp \\neg e\n",
    "$$\n",
    "    - The proof rule $\\neg i$ is used to show that an assumption cannot be true, so it must be false\n",
    "![neg_i](img/neg_i.png)"
   ]
  },
  {
   "cell_type": "markdown",
   "metadata": {},
   "source": [
    "### Derived rules \n",
    "- Derived rules are rules that can be derived from other rules \n",
    "- The proof by contradiction rule says if we from $\\neg \\phi$ we obtain a contradiction, then we are entitled to deduce $\\phi$:\n",
    "![pbc](img/pbc.png)\n",
    "- The rule LEM says that $\\phi \\lor \\neg \\phi$ is true "
   ]
  },
  {
   "cell_type": "markdown",
   "metadata": {},
   "source": [
    "### Provable equivalence \n",
    "- **Definition 1.25** Let $\\phi$ and $\\psi$ be formulas of propositional logic. We say that $\\phi$ and $\\psi$ are **provable equivalent** iff the sequents $\\phi \\vdash \\psi$ and $\\psi \\vdash \\phi$ are valid. \n",
    "    - Denoted by $ \\phi \\dashv\\vdash \\psi$"
   ]
  },
  {
   "cell_type": "markdown",
   "metadata": {},
   "source": [
    "### An aside: proof by contradiction \n",
    "- Intuitionistic logicians argue that, that to prove $\\phi$ you should do it directly rather than arguing that $\\neg \\phi$ is impossible.\n",
    "- **Theorem 1.26** There exist irrational numbers $a$ and $b$ such that $a^b$ is rational "
   ]
  },
  {
   "cell_type": "markdown",
   "metadata": {},
   "source": [
    "## Propositional logic as a formal language \n",
    "- **Definition 1.27** The well-formed formulas of propositional logic are those which we can obtain using the following construction rules, and only those finitely many times: \n",
    "    - atom: Every propositional atom $p,q,r,\\dots$ and $p_1,p_2,p_3, \\dots$ is a well-formed formula\n",
    "    - $\\neg:$ If $\\phi$ is a well-formed formula, then so is $(\\neg \\phi)$.\n",
    "    - $\\land:$ If $\\phi$ and $\\psi$ are well-formed formulas, then so is $(\\phi \\land \\psi)$\n",
    "    - $\\lor:$ If $\\phi$ and $\\psi$ are well-formed formulas, then so it $(\\phi \\lor \\psi)$\n",
    "    - $\\to:$ If $\\phi$ and $\\psi$ are well-formed formulas, then so it $(\\phi \\to \\psi)$\n",
    "- To tell if a string is well formed the **inversion principle** can be used, which is that we can invert the process of building formulas.     \n",
    "- The easiest way to show that something is wellformed is by drawing a parse tree \n",
    "- The subformula of a formula $\\phi$ is the formulas which correspond to the subtrees of its parse tree"
   ]
  },
  {
   "cell_type": "markdown",
   "metadata": {},
   "source": [
    "## Semantics of propositional logic \n",
    "- **Definition 1.28**\n",
    "    1. The set of truth values contains two values `T` represents 'true' and `F` represents 'false'.\n",
    "    2. A **valuation** or **model** of a formula $\\phi$ is an assignment of each propositional atom in $\\phi$ to a truth values \n",
    "\n",
    "\n",
    "- $\\phi \\to \\psi$ and $\\neg \\phi \\lor \\psi$ are **semantically equivalent**\n",
    "\n",
    "\n",
    "- **Course of values induction** e.g. structural induction\n",
    "\n",
    "\n",
    "- **Definition 1.32.** Given a well-formed formula $\\phi$, we define the height to be 1 plus the length of the longest path of three "
   ]
  },
  {
   "cell_type": "markdown",
   "metadata": {},
   "source": [
    "### Soundness of propositional logic \n",
    "- **Definition 1.34.** If for all valuations in which all $\\phi_1, \\phi_2, \\dots, \\phi_n$ evaluate to `T`, $\\psi$ evaluates to `T` as well, we say that \n",
    "$$\n",
    "    \\phi_1, \\phi_2, \\dots, \\phi_n \\vDash \\psi\n",
    "$$\n",
    "    holds and call $\\vDash$ the **semantic entailment** relation \n",
    "\n",
    "\n",
    "- **Theorem 1.35 (Soundness)** Let $\\phi_1, \\phi_2, \\dots, \\phi_n$ and $\\psi$ be propositional logic formulas. If  "
   ]
  },
  {
   "cell_type": "markdown",
   "metadata": {},
   "source": [
    "### Completeness of propositional logic\n",
    "- **Definition 1.36.** A formula of propositional logic $\\phi$ is called a **tautology** iff it evaluates to `T` under all its valuations\n",
    "- **Theorem 1.37** If $\\vDash \\eta$ holds, then $\\vdash \\eta$ is valid. In other words, if $\\eta$ is a tautology, then $\\eta$ is a theorem \n",
    "- **Proposition 1.38** Let $\\phi$ be a formula such that $p_1,p_2,\\dots,p_n$ are its only propositional atoms. Let $l$ be any line number in $\\phi$'s truth table. For all $1 \\leq i \\leq n$ let $\\hat p_i$ be $p_i$ if the entry if the entry in line $l$ of $p_i$ is `T`, otherwise $\\hat p_i$ is $\\neg p_i$. Then we have \n",
    "    1. $\\hat p_1, \\hat p_2,\\dots, \\hat p_n \\vdash \\phi$ is provable if the entry for $\\phi$ in line $l$ is `T`\n",
    "    2. $\\hat p_1, \\hat p_2,\\dots, \\hat p_n \\vdash \\neg \\phi$ is provable if the entry for $\\phi$ in line $l$ is `F`"
   ]
  },
  {
   "cell_type": "markdown",
   "metadata": {},
   "source": [
    "# Predicate logic \n",
    "- A predicate is something that says that something is true for the variable \n",
    "    - e.g. the predicate S(x) says that x is a student \n",
    "    - there is a special predicate in predicate logic **equality** which is a binary predicate and is written $W$ \n",
    "- A variable is written $u,v,w,\\dots$ are can be used as place holders for concrete variables \n",
    "    - can be used to specify the meaning of a predicate \n",
    "- $\\forall$ and $\\exists$ are called **quantifiers**\n",
    "    - always come attached to a variable\n",
    "- Predicate logic uses **functions** \n",
    "    - can only be used in situations in which we want to denote a single object\n",
    "    - are not needed but are often cleaner than only using predicates and variables \n",
    "    - functions which takes zero arguments are called **constants**\n",
    "    - e.g. $m(x):$ returns the mother of $x$"
   ]
  },
  {
   "cell_type": "markdown",
   "metadata": {},
   "source": [
    "## As a formal language \n",
    "- Individuals, variables and functions symbols are called **terms**\n",
    "- Predicate local denotes truth values; expressions of this kinds are **formulas** \n",
    "    - e.g. $Y(x,m(x))$ is a formula, though $x$ and $m(x)$ are terms\n",
    "- A predicate vocabulary consists of three sets\n",
    "    1. A set of predicate symbols $\\mathcal P$\n",
    "    2. A set of function symbols $\\mathcal F$\n",
    "    3. A set of constant symbols $\\mathcal C$\n",
    "- Each predicate and each function symbol comes with an **arity** which is the number of symbols it expects \n",
    "- Constants can be thought of as a function with no arguments therefore the set $\\mathcal C$ is dropped \n",
    "    - Constants are 0-arity, so-called nullary functions\n",
    "   "
   ]
  },
  {
   "cell_type": "markdown",
   "metadata": {},
   "source": [
    "### Terms \n",
    "- Functions may be nested\n",
    "- **Definition 2.1** Terms are defined as follows\n",
    "    - Any variable is term \n",
    "    - If $c \\in \\mathcal F$ is a nullary function, then $c$ is a term\n",
    "    - If $t_1, t_2, \\dots, t_n$ are terms and $f \\in \\mathcal F$ has arity $n>0$, then $f(t_1, t_2, \\dots, t_n)$ is a term\n",
    "    - Nothing else is a term\n",
    "- In BNF the term is written as \n",
    "$$\n",
    "    t::= x \\ | \\ c \\ | \\ \\ f(t, \\dots, t) \n",
    "$$\n",
    "    where x ranges over a set of variables **var**, $c$ over nullary function sumbols in $\\mathcal F$, and $f$ over those elements of $\\mathcal F$ with arity $n>0$ \n",
    "- Important things about terms \n",
    "    - the first building blocks of terms are **constants** (nullary function) and **variables**\n",
    "    - more complex terms are built from function symbols using as many previously built terms as required by such function symbols \n",
    "    - the notion of terms is dependent on the set $\\mathcal F$. \n",
    "        - If it is changed the set of terms is changed    "
   ]
  },
  {
   "cell_type": "markdown",
   "metadata": {},
   "source": [
    "### Formulas\n",
    "- **Definition 2.3** We define the set of formulas over ($\\mathcal F, \\mathcal P$) inductively, using the already defined set of terms over $\\mathcal F$:\n",
    "    - If $P \\in \\mathcal P$ is a predicate symbol of arity $n \\geq 0$, and if $t_1, t_2, \\dots, t_n$ are terms over $\\mathcal F$, then $P(t_1, t_2, \\dots,t_n)$ is a formula\n",
    "    - If $\\phi$ is a formula, then so is $(\\neg phi)$\n",
    "    - If $\\phi$ and $\\psi$ are formulas, then so are $(\\phi \\land \\psi)$, $(\\phi \\lor \\psi)$ and $(\\phi \\to \\psi)$\n",
    "    - If $\\phi$ is a formula and $x$ is a variable, then $(\\forall x \\phi)$ and $(\\exists x \\phi)$ are formulas\n",
    "    - Nothing else is a formula \n",
    "- In BNF a term is written as\n",
    "$$\n",
    "    \\phi ::= P(t_1, t_2, \\dots, t_n) \\ | \\ (\\neg \\phi) \\ | \\ (\\phi \\land \\phi) \\ | \\ (\\phi \\lor \\phi) \\ | \\ (\\phi \\to \\phi) \\ | \\ (\\forall x \\ \\phi) \\ | \\ (\\exists x \\ \\phi)\n",
    "$$\n",
    "    where $P\\in \\mathcal P$ is a predicate symbol of arity $n \\geq$ $t_i$ are terms over $\\mathcal F$ and $x$ is a variable. \n",
    "- Binding priorities \n",
    "    - $\\neg$, $\\forall y$ and $\\exists y$ bind most tightly;\n",
    "    - then $\\land$ and $\\lor$ \n",
    "    - then $\\to$, which is right-associative \n",
    "    \n",
    "    "
   ]
  },
  {
   "cell_type": "markdown",
   "metadata": {},
   "source": [
    "### Free and bound variables\n",
    "- **Definition 2.6** Let $\\phi$ be a formula in predicate logic.\n",
    "    - Occurrence of $x$ is **free** in $\\phi$ if it is a leaf node in the parse tree of $\\phi$ such that there is no path upwards from that node $x$ to a node $\\forall x$ or $\\exists x$\n",
    "    - Otherwise, that occurrence of $x$ is **bound**\n",
    "    - For $\\forall x \\ \\phi$ pr $\\exists x \\ \\phi$ we say that $\\phi$ minus any of $phi$ subformulas $\\exists x \\ \\psi$ or $\\forall x \\ \\psi$ - is the scope of $\\forall x$ or $\\exists x$ respectively     "
   ]
  },
  {
   "cell_type": "markdown",
   "metadata": {},
   "source": [
    "### Substitution \n",
    "- **Definition 2.7** Given a variable $x$, a term $t$ and a formula $\\phi$ we define $\\phi[t/x]$ to be the formula obtained by replacing every free occurrence of the variable $x$ in $\\phi$ with $t$\n",
    "    - $\\phi[t/x]$ is not a legal formula but its result will be a legal formula provided that $\\phi$ was a legal formula \n",
    "    \n",
    "    \n",
    "- **Definition 2.8** Given a term $t$, a variable $x$ and a formula $\\phi$ we say that $t$ is free for $x$ in $\\phi$ if no free $x$ leaf in $\\phi$ occurs in the scope of $\\forall y$ or $\\exists y$ for any variable $y$ occurring in $t$ "
   ]
  },
  {
   "cell_type": "markdown",
   "metadata": {},
   "source": [
    "## Proof theory of predicate logic\n",
    "### Natural deduction rules\n",
    "- Any proof rule for logical formulas of propositional local us still valid for logical formulas of predicate logic\n",
    "    - We only need new proof rules for dealing with the quantifiers and the equality symbol \n",
    "___\n",
    "- **Proof rules for equality**\n",
    "    - Induction rule for equality \n",
    "$$\n",
    "    \\frac{}{t=t}=i   \n",
    "$$\n",
    "    may only be invoked if t is a term \n",
    "    \n",
    "    - Elimination rule for equality\n",
    "$$\n",
    "    \\frac{t_1 = t_2 \\quad \\phi [t_1 / x]}{\\phi[t_2/x]} =e\n",
    "$$\n",
    "    $t_1$ and $t_2$ have to be free for $x$ in $\\phi$ to use the rule (a **side condition**)\n",
    "\n",
    "\n",
    "\n",
    "- **Convention 2.10** When making a substitution of the form $\\phi[t/x]$ it is implicitly assumed that $t$ is free for $x$ in $\\phi$ \n",
    "____\n",
    "\n",
    "- **The proof rules for universal quantification**\n",
    "    - The rule for eliminating $\\forall$ is \n",
    "$$\n",
    "    \\frac{\\forall x \\ \\phi}{\\phi[t/x]} \\forall x e\n",
    "$$\n",
    "    given the side condition for substitution \n",
    "    - The rule for introducing $\\forall$ is\n",
    "![forall_introduction](img/forall_introduction.png)    \n",
    "where $x_0$ is a dummy variable rather than the scope of an assumption        \n",
    "        - can also be thought of as an arbitrary term \n",
    "        - something which does not occur any other place\n",
    "        - the step from $\\phi$ to $\\forall x \\ \\phi$ is legitimate only if we have arrived at $\\phi$ in such a way that none of its assumptions contain $x$ as a free variable. \n",
    "\n",
    "\n",
    "- There are rules for each variable $x$         \n",
    "___\n",
    "\n",
    "- **The proof rules for existential quantification**\n",
    "    - The rule for introducing $\\exists$ \n",
    "$$\n",
    "    \\frac{\\phi[t/x]}{\\exists x \\ \\phi} \\exists x \\ i\n",
    "$$\n",
    "    - The rule of eliminating $\\exists$ \n",
    "![exists_elim](img/exists_elim.png)     \n",
    "    $\\chi$ should not include $x_0$ and $x_0$ cannot occur outside the box \n",
    "        - cannot be computed "
   ]
  },
  {
   "cell_type": "markdown",
   "metadata": {},
   "source": [
    "### Quantifier equivalences \n",
    "- **Theorem 2.13** Let $\\phi$ and $\\psi$ be formulas of predicate logic. Then we have the following equivalences \n",
    "    1. In general \n",
    "        1. $\\neg \\forall x \\phi \\dashv\\vdash \\exists x \\neg \\phi$\n",
    "        2. $\\neg \\exists x \\phi \\dashv\\vdash \\forall x \\neg \\phi$\n",
    "    2. Assuming that $x$ is not free in $\\psi$:\n",
    "![quantifier_equiv](img/quantifier_equiv.png)"
   ]
  },
  {
   "cell_type": "markdown",
   "metadata": {},
   "source": [
    "## Semantics of predicate logic \n",
    "- It is easier to prove than something is true, than something is not true\n",
    "- In semantics it is easier to establish assertions on the form $\\Gamma \\nvDash \\psi$ than assertions on the form $\\Gamma \\vDash \\psi$"
   ]
  },
  {
   "cell_type": "markdown",
   "metadata": {},
   "source": [
    "### Models\n",
    "- **Definition 2.14** Let $\\mathcal F$ be a set of function symbols and $\\mathcal P$ a set of predicate symbols, each symbols with a fixed number of required arguments. A model $\\mathcal M$ of the pair ($\\mathcal F$, $\\mathcal P$) consists of the following set of data:\n",
    "    1. A non-empty set $A$, the universe of concrete values\n",
    "    2. for each nullary function symbol $f \\in \\mathcal F$, a concrete element $f^\\mathcal M$ of $A$ \n",
    "    3. for each $f \\in \\mathcal F$ with arity $n>0$, a concrete function $f^\\mathcal M: A^n \\rightarrow A$ from $A^n$, the set of $n$-tuples over $A$, to $A$ \n",
    "    4. for each $P\\in \\mathcal P$ with arity $n>0$, a subset $P^\\mathcal M \\subseteq A^n$ of $n$-tuples over A over \n",
    "    \n",
    "    \n",
    "- **Definition 2.17** A look-up table or environment for a universe $A$ of concrete values is a function $l: \\text{var} \\to A$ from the set of variables **var** to $A$. For such an $l$, we denote by $l[x \\mapsto a]$ the look-up table which maps $x$ to $a$ and any other variable $y$ to $l(y)$\n",
    "\n",
    "\n",
    "- **Definition 2.18** Given a model $\\mathcal M$ for a pair $(\\mathcal F, \\mathcal P)$ and given an environment $l$, we define the satisfaction relation $\\mathcal \\vDash_l \\phi$ for each logical formula $\\phi$ over the pair $(\\mathcal F, \\mathcal P)$ and look-up table $l$ by structural induction on $\\phi$. If $\\mathcal M \\vDash_l \\phi$ holds, we say that $\\phi$ computes to `T` in the model $\\mathcal M$ with respect to the environment $l$. \n",
    "\n",
    "![model_predicate](img/model_predicate.png)\n",
    "- If $\\phi$ has no free variables at all, it is called a **sentence**"
   ]
  },
  {
   "cell_type": "markdown",
   "metadata": {},
   "source": [
    "### Semantic entailment\n",
    "- **Definition 2.20** Let $\\gamma$ be a (possibly infinite) set of formulas in predicate logic and $\\psi$ a formula of predicate logic\n",
    "    1. Semantic entailment $\\Gamma \\vDash \\psi$ hold iff for all models $\\mathrel M$ and look-up table $l$, whenever $\\mathcal M \\vDash_l \\phi$ holds for all $\\phi \\in \\Gamma$, then $\\mathcal \\vDash_l \\psi$ holds as well\n",
    "    2. Formula $\\psi$ is satisfiable iff there is some model $\\mathcal M$ and some environment $l$ such that $\\mathcal M \\vDash_l \\psi$  holds.\n",
    "    3. Formula $\\psi$ is valid iff $\\mathcal M \\vDash_l \\psi$ holds for all models $\\mathcal M$ and environments $l$ in which we can check $\\psi$ \n",
    "    4. The set $\\Gamma$ is consistent or satisfiable iff there is a model $\\mathcal M$ and look-up talble $l$ such that $\\mathcal M \\vDash_l \\phi$ holds for all $\\phi \\in \\Gamma$"
   ]
  },
  {
   "cell_type": "markdown",
   "metadata": {},
   "source": [
    "# Program verification \n",
    "![def43](img/def43.png)\n",
    "- **Definition 4.5 (Partial correctness)** We say the triple $(|\\phi|)P(|\\psi|)$ is satisfied under partial correctness if, for all states which satisfy $\\phi$, the state resulting from $P$'s execution satisfies the postcondition $\\psi$, provided that $P$ actually terminates. In this case, the relation $\\vDash_{\\pmb {par}}(|\\phi|) \\ P \\ (| \\psi |) $ holds. We call $\\vDash_{\\pmb{par}}$ the satisfaction relation for partial correctness \n",
    "- **Definition 4.6 (Total correctness)**  We say the triple $(|\\phi|)P(|\\psi|)$ is satisfied under total correctness if, for all states in which $P$ is executes which satisfy the precondition $\\phi$, $P$ is guaranteed to terminate and the resulting state satisfies the postcondition $\\psi$. In this case we the relation $\\vDash_{\\pmb {tot}}(|\\phi|) \\ P \\ (| \\psi |) $ holds. We call $\\vDash_{\\pmb{tot}}$ the satisfaction relation for total correctness \n",
    "- **Definition 4.8**\n",
    "    1. If partial correctness of triples $(|\\phi|)P(|\\psi|)$ can be proved in the partial correctness calculus we develop in the chapter we say that the sequent $\\vdash_{\\pmb {par}}(|\\phi|) \\ P \\ (| \\psi |) $ is valid \n",
    "    1. If partial correctness of triples $(|\\phi|)P(|\\psi|)$ can be proved in the total correctness calculus we develop in the chapter we say that the sequent $\\vdash_{\\pmb {tot}}(|\\phi|) \\ P \\ (| \\psi |) $ is valid \n",
    "\n",
    "- **Definition 4.10** For at Hoare tripe $(|\\phi|)P(|\\psi|)$, its set of logical variables are those variables which only that are free in $\\phi$ or $\\psi$ and do not occur in $P$ \n",
    "    - Variables such as $x_0$ \n",
    "    - they only occur in logical formulas that constitute the precondition and postcondition "
   ]
  },
  {
   "cell_type": "markdown",
   "metadata": {},
   "source": [
    "## Proof rules for partial correctness\n",
    "### Proof rules\n",
    "![proof_rules_partial](img/proof_rules_partial.png)\n",
    "- $\\eta$ is called a **midcondition**"
   ]
  },
  {
   "cell_type": "markdown",
   "metadata": {},
   "source": [
    "### Proof tableaux\n",
    "- **Definition 4.12** The process of obtaining $\\phi_i$ from $C_{i+1}$ is called computing the weakest precondition of $C_{i+1}$ given the postcondition $\\phi_{i+1}$. That is to say, we are looking for the logically weakest formula whose truth at the beginning of the execution of $C_{i+1}$ is enough to guarantee $\\phi_{i+1}$\n",
    "\n",
    "\n",
    "- **Assignment** The assignment axiom are written as thus in a proof tableaux\n",
    "![assignment_tableaux](img/assignment_tableaux.png)\n",
    "\n",
    "- **If-statements**. We now consider how to push a postcondition upwards through an if-statement. Suppose we are given a Condition $\\psi$ and a program fragment $if\\ (B)\\ \\{C_1\\}\\ else\\ \\{C_2\\}$. We wish to calculate the weakest $\\phi$ such that:\n",
    "![if_tableaux](img/if_tableaux.png)\n",
    "- This $\\phi$ is calculated as follows\n",
    "    1. Push $\\psi$ upwards through $C_1$ ; let’s call the result $\\phi_1$ . (Note that, since $C_1$ may be a sequence of other commands, this will involve appealing to other rules. If\n",
    "    $C_1$ contains another if-statement, then this step will involve a ‘recursive call’\n",
    "    to the rule for if-statements.)\n",
    "    2. Similarly, push $\\psi$ upwards through $C_2$ ; call the result $\\phi_2$ .\n",
    "    3. Set $\\phi$ to be $(B \\to \\phi_1 ) \\land (\\neg B \\to \\phi_2)$.\n",
    "    \n",
    "    \n",
    "- **Definition 4.15** An invariant of a while statement `while (B) {C}` is a formula $\\eta$ such that $\\vDash_{\\pmb{par}}(|\\eta \\land B|)C(|\\eta|)$ holds; i.e. for all states $l$, if $\\eta$ and $B$ are true in $l$ and $C$ is executed from state $l$ and terminates, then $\\eta$ is again true in the resulting state \n",
    "\n",
    "\n",
    "- **While-statements**\n",
    "![while_tableaux1](img/while_tableaux1.png)\n",
    "![while_tableaux2](img/while_tableaux2.png)"
   ]
  },
  {
   "cell_type": "markdown",
   "metadata": {},
   "source": [
    "# Impossibility results \n",
    "## Logics \n",
    "- A logic is a tripled $(\\Phi, \\vDash, \\vdash)$\n",
    "    - $\\Phi$ is a set of formulæ and $\\vDash \\subseteq \\Phi$ and $\\vdash \\subseteq \\Phi$\n",
    "    - $\\vDash \\phi$ is written rather than $\\phi \\in \\vDash$ and $\\vdash \\phi$ rather than $\\phi \\in \\vdash$\n",
    "    - For $\\phi \\in \\Phi$ we read $\\vDash \\phi$ as *\"$\\phi$ is valid\"* and read $\\vdash \\phi$ as *\"$\\phi$ is provable\"*\n",
    "    - The predicate $\\vDash$ provides the semantics of the logic and $\\vdash$ captures the proof system \n",
    "    - It is assumed that $\\phi \\subseteq \\Sigma^*$ for some alphabet $\\Sigma^*$ \n",
    "        - such that a formula is something that can be written down\n",
    "        - is typically recursive\n",
    "        - is often defined via a CFG and is context-free language \n",
    "    - It is assumed that $\\vdash$ is recursive enumerable.\n",
    "\n",
    "\n",
    "- A logic $(\\Phi, \\vDash, \\vdash)$ is sound if $\\vdash \\phi$ implies that $\\vDash \\phi$\n",
    "    - i.e. if $\\vdash \\subseteq \\vDash$\n",
    "- A logic $(\\Phi, \\vDash, \\vdash)$ is complete if $\\vDash \\phi$ implies that $\\vdash \\phi$ \n",
    "    - i.e. if $\\vDash \\subseteq \\vdash$\n",
    "    \n",
    "    \n",
    "- **Lemma 1** If a logic $(\\Phi, \\vDash, \\vdash)$ is sound and complete then $\\vdash = \\vDash$"
   ]
  },
  {
   "cell_type": "markdown",
   "metadata": {},
   "source": [
    "### Propositional logic \n",
    "- In propositional logic the set $\\phi_{\\text{prop}}$ of formulas over variables $\\mathcal V$ is given by the context-free-gramma\n",
    "$$\n",
    "    \\phi ::= \\top \\mid \\perp \\mid  x \\mid \\neg \\phi \\mid \\phi \\lor \\phi \\mid \\phi \\land \\phi \\mid \\phi \\to \\phi \\mid (\\phi)\n",
    "$$\n",
    "    with start symbol \\phi, where $x \\in \\mathcal V$ \n",
    "    \n",
    "    \n",
    "- For $\\phi \\in \\Phi$ we say that $\\phi$ is valid if $\\phi$ evaluates to $\\top$ for all possible truth assignments of its variable\n",
    "    - is written as $\\vDash_{\\text{prop}} \\phi$\n",
    "- For $\\phi \\in \\Phi$ we say that $\\phi$ is provable is $\\phi$ can be derived given the natural deduction rules for propositional logic \n",
    "    - is written as $\\vdash_{\\text{prop}} \\phi$"
   ]
  },
  {
   "cell_type": "markdown",
   "metadata": {},
   "source": [
    "### First-Order Predicate Logic\n",
    "- In first order predicate logic over the function symbols $\\mathcal F$ and predicate symbols $\\mathcal P$, the set $\\phi_{\\text{1pred}}$ of formulæ is given by the context-free grammar \n",
    "$$\n",
    "    t::= x \\mid c \\mid f(t,\\dots, t)\n",
    "$$\n",
    "$$\n",
    "    \\phi ::= P(t,\\dots,t) \\mid x \\mid \\neg \\phi \\mid \\phi \\lor \\phi \\mid \\phi \\land \\phi \\mid \\phi \\to \\phi \\mid (\\phi) \\mid \\forall x \\phi \\mid \\exists x \\phi\n",
    "$$\n",
    "    with start symbol $\\phi$, where $x \\in \\mathcal V$, $f \\in \\mathcal F$ and $P \\in \\mathcal P$ and the constants $c$ are functions with arity 0 \n",
    "\n",
    "\n",
    "- For $\\phi \\in \\Phi$ we say that $\\phi$ is valid if $\\phi$ is true in all models of $(\\mathcal F, \\mathcal P)$ and in all lookup tables\n",
    "    - is written as $\\vDash_{\\text{1pred}} \\phi$\n",
    "- For $\\phi \\in \\Phi$ we say that $\\phi$ is provable is $\\phi$ can be derived given the natural deduction rules for predicate logic\n",
    "    - is written as $\\vdash_{\\text{1pred}} \\phi$       "
   ]
  },
  {
   "cell_type": "markdown",
   "metadata": {},
   "source": [
    "### Second-order Predicate Logic\n",
    "- Second-order predicate logic is an extension of first-order predicate logic where one can quantify over higher order objects like functions, predicates and subsets.\n",
    "- We look at a limited form of where we allow to the following\n",
    "$$\n",
    "    \\phi ::= \\forall S \\phi \\mid \\exists S \\phi \\mid t \\in S\n",
    "$$\n",
    "    where $S$ is a set variable and $t$ is a term\n",
    "\n",
    "\n",
    "- The semantics of $\\forall S\\phi$ should be true no matter which subset $B \\subseteq A$ of the universe $S$ in assigned in the lookup table  \n",
    "- The semantics of $\\exists S\\phi$ is that there is some subset $B \\subseteq A$ of the universe which $S$ in assigned in the lookup table which makes $\\phi$ true \n",
    "- The semantics of $t \\in S$ is that the element which $t$ evaluates to in the lookup table is in the set $S$ is assigned to in the lookup table \n",
    "- The subset operator $\\subseteq$ can be seen as a macro \n",
    "$$\n",
    "    S \\subseteq T \\stackrel{\\text{DEF}}{=} \\forall x (x \\in S \\to x \\in T)\n",
    "$$"
   ]
  },
  {
   "cell_type": "markdown",
   "metadata": {},
   "source": [
    "### Logic for Arithmetic\n",
    "- In our logic for arithmetic the set $\\phi_{\\text{AR}}$ of formulas is the set of formulas of predicate logic with predicate symbols $=$, constants $0$ and $1$ and binary symbols $+$ and $*$\n",
    "- Macros used \n",
    "![logic_macros_numb](img/logic_macros_numb.png)\n",
    "- For $\\phi \\in \\Phi$ we say that $\\phi$ is valid if it holds in the usual model of arithmetic.\n",
    "    - is written as  $\\vDash_{\\text{AR}}$ \n",
    "    - i.e. iff $\\mathcal M \\vDash_{\\text{1pred}} \\phi$ where $\\mathcal M_{\\text{AR}}$ is the model where we quantify over the natural numbers $\\mathbb N$, where $0$ and $1$ denote the natural numbers one and zero and where $+$ and $*$ denote addition and multiplication respectively over $\\mathbb N$ \n",
    "- For $\\phi \\in \\Phi$ we say that $\\phi$ is provable if $\\phi$ can be derived given the natural deduction rules for predicate logic, starting from a set $\\Gamma$ of axioms about arithmetic.\n",
    "    - is written as $\\vdash_{\\text{AR}}$  \n",
    "    - i.e. we say that $\\vdash_{\\text{AR}}$ iff $\\Gamma \\vdash_{\\text{1pred}} \\phi$\n",
    "    - there is not one proof system for the arithmetic. \n",
    "    - for each set of axioms we get another proof system\n",
    "\n",
    "\n",
    "- **The Peano Axioms** The first six of his axioms describe how $0$, $1$, $+$ and $*$ works together \n",
    "![peano_axioms](img/peano_axioms.png)\n",
    "    the last axiom is a infinite set of axioms, one for each $\\phi \\in \\Phi_{\\text{1pred}}$\n",
    "    - the set of peanos axioms is called $\\Gamma_{\\text{1Peano}}$\n",
    "    - in the last axiom it is assumed that $\\psi$ has some free variable $x$, then $\\psi(0)=\\psi[0/x]$ and  $\\psi(n)=\\psi[n/x]$\n",
    "    - the six first axioms is also true for the real numbers, and complex numbers\n",
    "\n",
    "\n",
    "- **Second order peano** Peanos original formulation of the induction axioms was follows \n",
    "$$\n",
    "        P_7:  \\forall S((0 \\forall S \\land \\forall n ( n \\in S \\to (n+1) \\in S)) \\to \\forall n(n \\in S))\n",
    "$$\n",
    "- We let $\\Gamma_{\\text{2Peano}}$ denote the first six first-order Peano axioms plus the above second-order axiom\n",
    "    - It fully characterizes the natural numbers \n",
    "- **Theorem 2.** If $\\mathcal \\vDash_{\\text{2pred}} \\Gamma_{\\text{2Peano}}$ then $\\mathcal N = \\mathcal M_{\\text{AR}}$"
   ]
  },
  {
   "cell_type": "markdown",
   "metadata": {},
   "source": [
    "### Logic for Partial Program Correctness\n",
    "- The set $\\Phi_\\text{Hoare}$ of formulæ in Hoare logic for partial program correctness consists of triples $(\\phi,P,\\psi)$ where $\\phi$ and $\\psi$ are formulæ in the logic for arithmetic and $P$ is a program over natural numbers\n",
    "- We say that $(\\psi, P, \\psi)$ is valid whenever $P$ is run in a state satisfying $\\phi$ then if the program terminates it will be  in a state satisfying $\\psi$\n",
    "    - written as $\\vDash_\\text{par} (\\phi, P, \\psi)$\n",
    "- We say that $(\\psi, P, \\psi)$ is provable if it can be derived using proof calculus \n",
    "    - written as  $\\vdash_\\text{par} (\\phi, P, \\psi)$\n",
    "\n",
    "\n",
    "- *Total correctness is not considered*"
   ]
  },
  {
   "cell_type": "markdown",
   "metadata": {},
   "source": [
    "## Axiomatization\n",
    "- The way the proof system was defined for arithmetic is called **axiomatization**\n",
    "    - we started started with a proof system for predicate logic and adapt it to natural numbers by adding a set of premises which characterizes the natural numbers \n",
    "- An axiomatization in predicate logic is a recursively enumerable set $\\Gamma$ of formulæ\n",
    "    - We say that $\\Gamma$ is a **sound** axiomatization of a model $\\mathcal M$ iff $\\mathcal M \\vDash_{\\text{1pred}} \\Gamma$ \n",
    "    - We say that $\\Gamma$ is a **complete** axiomatization of a model $\\mathcal M$ iff $\\mathcal N \\vDash_\\text{1pred} \\Gamma$ implies that $\\mathcal N = \\mathcal M$ \n",
    "    - It is required that $\\Gamma$ is recursively enumerable as you cannot check a proof if one cannot recognize an axiom when it appears in the proof \n",
    "\n",
    "\n",
    "- **Theorem 2.** If $\\Gamma$ is a sound and complete axiomatization of $\\mathcal M$, then $\\mathcal M \\vDash \\phi$, iff $\\Gamma \\vDash \\phi$ \n",
    "- **Theorem 3.** If $\\Gamma$ is a sound and complete first-order axiomatization of $\\mathcal M$, then $\\mathcal M \\vDash_\\text{1pred} \\phi$ iff $\\Gamma \\vdash_\\text{1pred} \\phi$\n",
    "\n",
    "\n",
    "- Axiomatization can also be used to talk about a set of models at the same time \n",
    "    - Group theory is an example of this\n",
    "___\n",
    "- A **group** consists of a set $A$ and a function $\\circ : A \\times A \\to A$ which is associative, has a natural element and allows taking an inverse \n",
    "- A group can be formulated using first order with the language containing the binary operator $\\circ$ and a constant $e$ using the following set $\\Gamma_\\text{group}$ consisting of these formulæ \n",
    "![group_axiom](img/group_axiom.png)\n",
    "    - These axioms can be used to prove something about groups"
   ]
  },
  {
   "cell_type": "markdown",
   "metadata": {},
   "source": [
    "## Language Expressability of a Logic\n",
    "- **Definition 1.** Let $L \\subseteq \\Sigma^*$ be a formal language over alphabet $\\Sigma$. We say that $(\\Psi, \\vDash)$ can express $L$ if there exists a Turing-computable function, called encoding\n",
    "$$\n",
    "    e: \\Sigma^* \\to \\Phi\n",
    "$$\n",
    "    such that $x\\in L$ iff $\\vDash e(x)$\n",
    "- **Lemma 2** If $(\\Phi, \\vDash)$ can express a language which is not recursive enumerable, then the set $\\phi$ is not recursive enumerable\n",
    "- **Lemma 3** If $(\\Phi, \\vDash)$ can express a language which is not recursive, then the set $\\phi$ is not recursive.\n",
    "![def2_imp](img/def2_imp.png)\n",
    "- An **affine function** is a function what can be written as $f(x) = ax+b$ for $a,b \\in \\mathbb N$\n",
    "![def3_imp](img/def3_imp.png)"
   ]
  },
  {
   "cell_type": "markdown",
   "metadata": {},
   "source": [
    "## Impossibility Results \n",
    "- **Definition 4.** The problem *Validity* for $(\\Phi, \\vDash)$ is the problem of determining whether a formula is valid\n",
    "    - The yes instances are $Y = \\! \\vDash$ \n",
    "    - The no instances are $N = \\; \\Phi \\backslash \\vDash$ \n",
    "    \n",
    "- **Theorem 4.** No logic $(\\Phi, \\vDash, \\vdash)$ can have the two following properties at the same time\n",
    "    1. Validity is decidable for $(\\Phi, \\vDash)$.\n",
    "    2. $(\\Phi, \\vDash)$ can express a language which is not recursive \n",
    "\n",
    "- **Theorem 5.** No logic $(\\Phi, \\vDash, \\vdash)$ can have the three following properties at the same time:\n",
    "    1. $(\\Phi, \\vDash, \\vdash)$ is sound \n",
    "    2. $(\\Phi, \\vDash, \\vdash)$ is complete \n",
    "    3. $(\\Phi, \\vDash)$ can express a language which is not recursive \n",
    "\n",
    "-  **Definition 5.** The problem *Provability* for $(\\Phi, \\vDash)$ is the problem of determining weather a formula is provable \n",
    "- **Theorem 6.** No logic $(\\Phi, \\vDash, \\vdash)$ can have the following four properties at the same time\n",
    "    1. $(\\Phi, \\vDash, \\vdash)$ is sound \n",
    "    2. $(\\Phi, \\vDash, \\vdash)$ is complete \n",
    "    3. Provability is decidable for $(\\Phi, \\vdash)$ \n",
    "    4. $(\\Phi, \\vDash)$ can express a language which is not recursive \n",
    "- **Lemma 4.** $(\\Phi_\\text{prop}, \\vDash_\\text{prop})$ can express all recursive languages \n",
    "- **Lemma 5.** $(\\Phi_\\text{1pred}, \\vDash_\\text{1pred})$ can express the Yes-instances of BPCP \n",
    "- **Lemma 6.** $(\\Phi_\\text{AR}, \\vDash_\\text{AR})$ can express the No-instances of APCP\n",
    "- **Corollary 1.**  $(\\Phi_\\text{prop}, \\vDash_\\text{prop})$ can express exactly the recursive languages. \n",
    "- **Corollary 2.** The validity problem for first-order predicate logic is undecidable.\n",
    "- **Corollary 3.** The provability problem for first-order predicate logic is not decidable.\n",
    "- **Corollary 4 (expressability of first-order predicate logic).** $(\\Phi_\\text{1pred}, \\vDash_\\text{1pred})$ can express exactly the recursive enumerable languages\n",
    "- **Corollary 5**  The validity problem for the logic for arithmetic is not semi decidable.\n",
    "- **Corollary 6 (Gödel's incompleteness theorem).** There does not exists a proof system $\\vdash_\\text{AR}$ such that $(\\Phi_\\text{AR}, \\vDash_\\text{AR}, \\vdash_\\text{AR})$ is sound and complete \n",
    "- **Corollary 7 (no complete axiomatization of arithmetic).** For any first order axiomatization of arithmetic, there exists a formula which is valid for arithmetic but which cannot be proved from the axioms.\n",
    "- **Corollary 8 (incompleteness of first-order Peano axioms).** Let $\\Gamma$ be the first-order version of the Peano axioms. Then there exists a model $\\mathcal M$ which is not the natural numbers, or isomorphic to the natural numbers, and for which $\\mathcal M \\vDash_\\text{1pred}\\Gamma$\n",
    "- **Corollary 9 (incompleteness of second-order predicate logic).** There is no sound proof system for second-order predicate logic which is complete"
   ]
  }
 ],
 "metadata": {
  "kernelspec": {
   "display_name": "Python 3",
   "language": "python",
   "name": "python3"
  },
  "language_info": {
   "codemirror_mode": {
    "name": "ipython",
    "version": 3
   },
   "file_extension": ".py",
   "mimetype": "text/x-python",
   "name": "python",
   "nbconvert_exporter": "python",
   "pygments_lexer": "ipython3",
   "version": "3.6.3"
  },
  "toc": {
   "nav_menu": {},
   "number_sections": false,
   "sideBar": true,
   "skip_h1_title": false,
   "toc_cell": false,
   "toc_position": {
    "height": "851px",
    "left": "0px",
    "right": "1708px",
    "top": "111px",
    "width": "212px"
   },
   "toc_section_display": "block",
   "toc_window_display": true
  }
 },
 "nbformat": 4,
 "nbformat_minor": 2
}
