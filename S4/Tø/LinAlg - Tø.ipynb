{
 "cells": [
  {
   "cell_type": "markdown",
   "metadata": {},
   "source": [
    "# Uge 2"
   ]
  },
  {
   "cell_type": "markdown",
   "metadata": {},
   "source": [
    "## Opgave 5 (sidste del)\n",
    "\\begin{align}\n",
    "\\begin{pmatrix}\n",
    "    a & b & e \\\\\n",
    "    c & d & f\n",
    "\\end{pmatrix}\n",
    "    &\\sim \n",
    "\\begin{pmatrix}\n",
    "    a & b & e \\\\\n",
    "    0 & d-\\frac{bc}{a} & f-\\frac{ec}a\n",
    "\\end{pmatrix}\n",
    "\\\\\n",
    "    &\\sim \n",
    "\\begin{pmatrix}\n",
    "    a & 0 & e-\\frac{bf-\\frac{bec}a}{d-\\frac{bc}{a}} \\\\\n",
    "    0 & d-\\frac{bc}{a} & f-\\frac{ec}a\n",
    "\\end{pmatrix}\n",
    "\\\\\n",
    "    &\\sim \n",
    "\\begin{pmatrix}\n",
    "    a & 0 & e-\\frac{abf-bec}{ad-bc} \\\\\n",
    "    0 & d-\\frac{bc}{a} & f-\\frac{ec}a\n",
    "\\end{pmatrix}\n",
    "\\\\\n",
    "    &\\sim \n",
    "\\begin{pmatrix}\n",
    "    1 & 0 & \\frac{e-\\frac{abf-bec}{ad-bc}}a \\\\\n",
    "    0 & 1 & \\frac{f-\\frac{ec}a}{d-\\frac{bc}{a}}\n",
    "\\end{pmatrix}\n",
    "\\\\\n",
    "    &\\sim \n",
    "\\begin{pmatrix}\n",
    "    1 & 0 & \\frac ea - \\frac{abf-bec}{a^2d-abc} \\\\\n",
    "    0 & 1 & \\frac{af-ec}{ad-bc}\n",
    "\\end{pmatrix}\n",
    "\\\\\n",
    "    &\\sim \n",
    "\\begin{pmatrix}\n",
    "    1 & 0 & \\frac{aed-bec-(abf-bec)}{a^2d-abc} \\\\\n",
    "    0 & 1 & \\frac{af-ec}{ad-bc}\n",
    "\\end{pmatrix}\n",
    "\\\\\n",
    "    &\\sim \n",
    "\\begin{pmatrix}\n",
    "    1 & 0 & \\frac{aed-afb}{a^2d-abc} \\\\\n",
    "    0 & 1 & \\frac{af-ec}{ad-bc}\n",
    "\\end{pmatrix}\n",
    "\\\\\n",
    "    &\\sim \n",
    "\\begin{pmatrix}\n",
    "    1 & 0 & \\frac{ed-fb}{ad-bc} \\\\\n",
    "    0 & 1 & \\frac{af-ec}{ad-bc}\n",
    "\\end{pmatrix}\n",
    "\\end{align}\n",
    "\n",
    "Dermed bliver løsningen $\\ell=\\begin{pmatrix} \\frac{ed-fb}{ad-bc} \\\\ \\frac{af-ec}{ad-bc} \\end{pmatrix}$"
   ]
  },
  {
   "cell_type": "markdown",
   "metadata": {},
   "source": [
    "\n"
   ]
  }
 ],
 "metadata": {
  "kernelspec": {
   "display_name": "Python 3",
   "language": "python",
   "name": "python3"
  },
  "language_info": {
   "codemirror_mode": {
    "name": "ipython",
    "version": 3
   },
   "file_extension": ".py",
   "mimetype": "text/x-python",
   "name": "python",
   "nbconvert_exporter": "python",
   "pygments_lexer": "ipython3",
   "version": "3.6.3"
  },
  "toc": {
   "nav_menu": {},
   "number_sections": false,
   "sideBar": true,
   "skip_h1_title": false,
   "toc_cell": false,
   "toc_position": {
    "height": "851px",
    "left": "0px",
    "right": "1708px",
    "top": "111px",
    "width": "212px"
   },
   "toc_section_display": "block",
   "toc_window_display": false
  }
 },
 "nbformat": 4,
 "nbformat_minor": 2
}
