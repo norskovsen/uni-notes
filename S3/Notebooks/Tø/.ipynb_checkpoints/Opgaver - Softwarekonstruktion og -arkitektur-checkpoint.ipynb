{
 "cells": [
  {
   "cell_type": "markdown",
   "metadata": {},
   "source": [
    "# Exercise 34.3\n",
    "![exercise34_3.png](../img/exercise34_3.png)"
   ]
  },
  {
   "cell_type": "markdown",
   "metadata": {
    "collapsed": true
   },
   "source": [
    "## Delopgave 1\n",
    "| Condition | Invalid EC | Valid EC |\n",
    "|:---------:|:----------:|:--------:|\n",
    "| Move difference vertically | $>1$ [$a_1$] | $=1$ [$a_2$]\n",
    "|  |  | $=0$ [$a_3$]"
   ]
  }
 ],
 "metadata": {
  "kernelspec": {
   "display_name": "Python 3",
   "language": "python",
   "name": "python3"
  },
  "language_info": {
   "codemirror_mode": {
    "name": "ipython",
    "version": 3
   },
   "file_extension": ".py",
   "mimetype": "text/x-python",
   "name": "python",
   "nbconvert_exporter": "python",
   "pygments_lexer": "ipython3",
   "version": "3.6.2"
  },
  "toc": {
   "nav_menu": {},
   "number_sections": false,
   "sideBar": true,
   "skip_h1_title": false,
   "toc_cell": false,
   "toc_position": {},
   "toc_section_display": "block",
   "toc_window_display": true
  }
 },
 "nbformat": 4,
 "nbformat_minor": 2
}
