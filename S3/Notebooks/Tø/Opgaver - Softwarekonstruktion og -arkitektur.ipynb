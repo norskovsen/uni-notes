{
 "cells": [
  {
   "cell_type": "markdown",
   "metadata": {},
   "source": [
    "# Exercise 34.3\n",
    "![exercise34_3.png](../img/exercise34_3.png)"
   ]
  },
  {
   "cell_type": "markdown",
   "metadata": {
    "collapsed": true
   },
   "source": [
    "## Delopgave 1\n",
    "| Condition | Invalid EC | Valid EC |\n",
    "|:---------:|:----------:|:--------:|\n",
    "| Move difference vertically | $>1$ [$a_1$] | $=1$ [$a_2$] |\n",
    "|  |  | $=0$ [$a_3$] |\n",
    "| Move difference horizontally | $>1$ [$b_1$] | $=1$ [$b_2$]|\n",
    "|  |  | $=0$ [$b_3$] |\n",
    "| Target ocupied by own pieces | true [$c_1$] | false [$c_2$] |\n",
    "| Attack dia | true [$c_1$] | false [$c_2$] |"
   ]
  },
  {
   "cell_type": "markdown",
   "metadata": {},
   "source": [
    "## Delopgave 2\n"
   ]
  }
 ],
 "metadata": {
  "kernelspec": {
   "display_name": "Python 3",
   "language": "python",
   "name": "python3"
  },
  "language_info": {
   "codemirror_mode": {
    "name": "ipython",
    "version": 3
   },
   "file_extension": ".py",
   "mimetype": "text/x-python",
   "name": "python",
   "nbconvert_exporter": "python",
   "pygments_lexer": "ipython3",
   "version": "3.6.2"
  },
  "toc": {
   "nav_menu": {},
   "number_sections": false,
   "sideBar": true,
   "skip_h1_title": false,
   "toc_cell": false,
   "toc_position": {},
   "toc_section_display": "none",
   "toc_window_display": false
  }
 },
 "nbformat": 4,
 "nbformat_minor": 2
}
