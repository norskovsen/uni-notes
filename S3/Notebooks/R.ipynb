{
 "cells": [
  {
   "cell_type": "markdown",
   "metadata": {},
   "source": [
    "# General\n",
    "- n:m can be used to generate a list of numbers from n to m\n",
    "- For loops are the same syntax as in python\n",
    "- The `rScript` command ca be used to run `r` files\n",
    "- Function is defined by setting a variable to `function(){}`\n",
    "    - Functions are evaluated lazily "
   ]
  },
  {
   "cell_type": "markdown",
   "metadata": {},
   "source": [
    "# Types\n",
    "- You can test a variables type using the `class` method\n",
    "- Logical\n",
    "    - A boolean value either `TRUE` or `FALSE` \n",
    "- Numeric\n",
    "    - A number like `12.3` or `5`    \n",
    "- Integer\n",
    "    - Made using the number and the `L`-suffix\n",
    "- Complex\n",
    "    - Represents a complex number eg. 2+3i\n",
    "- Character\n",
    "    - A string of characters e.g. 'a' or \"good\"\n",
    "- Raw\n",
    "    - A raw format\n",
    "- Vector\n",
    "    - It is a way of storing multiple items\n",
    "    - It is create using the `c()` method with the desired items\n",
    "- Lists \n",
    "    - Can be made using the `list()` method with the desired items\n",
    "    - Can contain many different data types\n",
    "- Matrixes \n",
    "    - Are confined to two dimentions\n",
    "    - Can be created using the `matrix()` \n",
    "        - `nrow` number of rows\n",
    "        - `ncolumn` number of columns \n",
    "        - `byrow` if its made by row\n",
    "    - Example:\n",
    "```r\n",
    "# Create a matrix.\n",
    "M = matrix( c('a','a','b','c','b','a'), nrow = 2, ncol = 3, byrow = TRUE)\n",
    "print(M)\n",
    "     [,1] [,2] [,3]\n",
    "[1,] \"a\"  \"a\"  \"b\" \n",
    "[2,] \"c\"  \"b\"  \"a\"\n",
    "```\n",
    "\n",
    "\n",
    "- Arrays\n",
    "    - Can be any number of dimentions\n",
    "    - Made using the array function\n",
    "        - `dim` the dimentions given by a vector\n",
    "    - Example:\n",
    "```r\n",
    "# Create an array.\n",
    "a <- array(c('green','yellow'),dim = c(3,3,2))\n",
    "print(a)\n",
    "```    \n",
    "\n",
    "- Factor \n",
    "    - Stores the distinct values of elements in the vector as labels\n",
    "    - Created using a vector\n",
    "        - factor(vector)\n",
    "\n",
    "- Data frames\n",
    "    - Like a matrix were each column has to be the same type\n",
    "    - Takes a number of vector elements and creates a the frame with their labels and info\n",
    "    - Example:\n",
    "    \n",
    "```r\n",
    "# Create the data frame.\n",
    "BMI = data.frame(\n",
    "   gender = c(\"Male\", \"Male\",\"Female\"), \n",
    "   height = c(152, 171.5, 165), \n",
    "   weight = c(81,93, 78),\n",
    "   Age = c(42,38,26)\n",
    ")\n",
    "print(BMI)\n",
    "\n",
    "# result\n",
    "  gender height weight Age\n",
    "1   Male  152.0     81  42\n",
    "2   Male  171.5     93  38\n",
    "3 Female  165.0     78  26  \n",
    "\n",
    "```"
   ]
  },
  {
   "cell_type": "markdown",
   "metadata": {},
   "source": [
    "# Methods\n",
    "- `print(message)` can be used to print a message\n",
    "- `cat` prints concatted values\n",
    "- `ls` display current values\n",
    "- `rm` delete variable\n",
    "- `runif(n,min = 0,max = 1)` can be used to generate `n` random numbers from the interval (0,1)\n",
    "- `sample(n:m)` used to generate one random number between n and m \n",
    "    - `size = n` desides the number of random numbers\n",
    "    - `replace` boolean that desides if repeated numbers is desired\n",
    "- `choose` binomial coefficient\n",
    "    \n",
    "## Plots\n",
    "- `hist(nList)` used to create histograms, where `nList` is a list of numbers\n",
    "    - `breaks` takes number of interval or a list with the desired breaks\n",
    "    - `main` the heading for the histogram\n",
    "    - `right` boolean that decides if the right part of the numbers is included or not\n",
    "- `plot(xList, yList)` used to create plots, where `xList` is a list of `x`'s and `yList` is a list of `y`'s\n",
    "    - `xlab` label on x-axis\n",
    "    - `ylab` label on y-axis\n",
    "    - `col` color\n",
    "    - `type` type of graph\n",
    "- `pie(x, labels, radius, main, col, clockwise)` used to create pie chars\n",
    "    - `x` is a vector containing the numeric values used in the pie chart.\n",
    "    - `labels` is used to give description to the slices.\n",
    "    - `radius` indicates the radius of the circle of the pie chart.(value between −1 and +1).\n",
    "    - `main` indicates the title of the chart.\n",
    "    - `col` indicates the color palette.\n",
    "    - `clockwise` is a logical value indicating if the slices are drawn clockwise or anti clockwise.\n",
    "\n",
    "\n",
    "## String methods\n",
    "- `paste` concat a number of strings\n",
    "    - `sep` is the seperator\n",
    "    - `collapse` eliminate space between two strings\n",
    "- `nchar` get number of chars\n",
    "- `substring(x, first, last)` get substring of string\n",
    "\n",
    "## Vector methods\n",
    "- `sum` gives sum of vector\n",
    "- `cumsum` the cumulative sum\n",
    "- `numeric(n)` creates vector of zeros of size n\n",
    "- `sort` sorts a vector\n",
    "- `sec(start,end)` create a sequence from start until end\n",
    "    - `by` the difference between elements \n",
    "- `mean` get the mean \n",
    "- `var` get the variance \n",
    "- `sd` get the standard deviation \n",
    "- `replicate` used instead of loops\n",
    "\n",
    "## Distributions\n",
    "- `dgeom(x-1,p)` PMF for the geometric distribution\n",
    "    - Takes values $0,1,2,3,4 \\dots$, (number of failures\n",
    "- `pgeom(x-1,p)` CDF the geometric distribution\n",
    "- `rgeom(n, p)` generate `n` results of the geometric distribution \n",
    "\n",
    "\n",
    "- `dbinom(x, size)`PMF the binomial distribution\n",
    "- `pbinom(x, size)` CDF the binomial distribution\n",
    "- `rbinom(n, size)` generate `n` results of a binomial distribution of size `size`\n",
    "- `qnorm` quatil normal distribution"
   ]
  },
  {
   "cell_type": "markdown",
   "metadata": {},
   "source": [
    "## Matrix multiplication \n",
    "- `A %*% B` multiplies the A and B matrix \n",
    "- `A %^% n` A times itself n times"
   ]
  },
  {
   "cell_type": "code",
   "execution_count": 2,
   "metadata": {},
   "outputs": [
    {
     "ename": "ERROR",
     "evalue": "Error in library(\"expm\"): there is no package called ‘expm’\n",
     "output_type": "error",
     "traceback": [
      "Error in library(\"expm\"): there is no package called ‘expm’\nTraceback:\n",
      "1. library(\"expm\")",
      "2. stop(txt, domain = NA)"
     ]
    }
   ],
   "source": [
    "# Example \n",
    "library(expm)\n",
    "A <-matrix(c(0.8,0.2,0.7,0.3), nrow=2, ncol=2, byrow=T)\n",
    "A %*% A\n",
    "A %^% 5"
   ]
  },
  {
   "cell_type": "markdown",
   "metadata": {},
   "source": [
    "## Integration and differentiate \n",
    "- D(f, \"x\") where f is an expression and x is the variable\n",
    "- Integrate(f, lower=l, upper=u) where f is a function"
   ]
  },
  {
   "cell_type": "markdown",
   "metadata": {},
   "source": [
    "# Libraries\n",
    "- `install.packages(\"packageName\")` install package `packageName`\n",
    "- `expm` matrix multiplication"
   ]
  }
 ],
 "metadata": {
  "kernelspec": {
   "display_name": "R",
   "language": "R",
   "name": "ir"
  },
  "language_info": {
   "codemirror_mode": "r",
   "file_extension": ".r",
   "mimetype": "text/x-r-source",
   "name": "R",
   "pygments_lexer": "r",
   "version": "3.4.2"
  },
  "toc": {
   "nav_menu": {},
   "number_sections": false,
   "sideBar": true,
   "skip_h1_title": false,
   "toc_cell": false,
   "toc_position": {
    "height": "851px",
    "left": "0px",
    "right": "20px",
    "top": "111px",
    "width": "212px"
   },
   "toc_section_display": "block",
   "toc_window_display": true
  }
 },
 "nbformat": 4,
 "nbformat_minor": 2
}
